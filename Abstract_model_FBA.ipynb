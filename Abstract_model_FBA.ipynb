{
 "cells": [
  {
   "cell_type": "markdown",
   "metadata": {},
   "source": [
    "# PYOMO FBA MODEL \n",
    "We build a simple abstract model. First, we need to load all required packages. Second, we give an example of an abstract objective function and constraint formulation. "
   ]
  },
  {
   "cell_type": "code",
   "execution_count": 37,
   "metadata": {},
   "outputs": [],
   "source": [
    "from pyomo.environ import *"
   ]
  },
  {
   "cell_type": "markdown",
   "metadata": {},
   "source": [
    "## Formulation of the optimisation problem\n",
    "\n",
    "\\begin{equation}\n",
    "\\begin{aligned}\n",
    "\\min_{x_{j}} \\quad & \\sum_{j=1}^{R}{c_{j}f_{j}} -\\sum_{k=1}^{S}{p_{k}b_{k}}\\\\\n",
    "\\textrm{s.t.} \\quad & \\sum_{j=1}^{R}{a_{kj}f_{j}} = b_{k} \\quad \\forall k=1 ... S  \\\\\n",
    "  &f_{j}\\geq0 \\quad \\forall j=1 ... R    \\\\\n",
    "\\end{aligned}\n",
    "\\end{equation}"
   ]
  },
  {
   "cell_type": "markdown",
   "metadata": {},
   "source": [
    "## Formulation of the Pyomo model: step by step\n",
    "We declare the model to be an abstract model. The name \"model\" may be varied. "
   ]
  },
  {
   "cell_type": "code",
   "execution_count": 38,
   "metadata": {},
   "outputs": [],
   "source": [
    "model = AbstractModel()"
   ]
  },
  {
   "cell_type": "markdown",
   "metadata": {},
   "source": [
    "We set up parameters *m* and *n* as limits for the sum. Specifiation to nonNegativeIntegers allows the data input only to be nonNegativeIntegers. Any other input type will result in an error messeage. "
   ]
  },
  {
   "cell_type": "code",
   "execution_count": 39,
   "metadata": {},
   "outputs": [],
   "source": [
    "model.S = Param(within=NonNegativeIntegers)\n",
    "model.R = Param(within=NonNegativeIntegers)\n",
    "model.BoundSupply = Param (within=NonNegativeIntegers)"
   ]
  },
  {
   "cell_type": "markdown",
   "metadata": {},
   "source": [
    "Next, we define index sets. It is not required but good practice to define the index parameters further. We declare here that it will be a range starting from 1 and ending at the values specified by `model.m` and `model.n`."
   ]
  },
  {
   "cell_type": "code",
   "execution_count": 40,
   "metadata": {},
   "outputs": [],
   "source": [
    "model.K = RangeSet(1, model.S)\n",
    "model.J = RangeSet(1, model.R)\n",
    "model.H = RangeSet(1, model.BoundSupply)"
   ]
  },
  {
   "cell_type": "markdown",
   "metadata": {},
   "source": [
    "We now define the coefficients for both constraint and objective expression. We can make use of the indices specified before for that purpose. Also, the indices indicate the dimension of the input coefficients, E.g. `model.a` is a matrix, while `model.b` and `model.c` are vectors. "
   ]
  },
  {
   "cell_type": "code",
   "execution_count": 41,
   "metadata": {},
   "outputs": [],
   "source": [
    "model.c = Param(model.J)\n",
    "model.f = Param(model.J)\n",
    "model.p = Param(model.K)\n",
    "model.b = Param(model.K)\n",
    "model.a = Param(model.K, model.J)\n",
    "model.bound = Param(model.H,model.J)\n",
    "model.input = Param(model.H)"
   ]
  },
  {
   "cell_type": "markdown",
   "metadata": {},
   "source": [
    "Now, we need to declare decision variables with the `Var` function. The first argument gives an index set and therewith the dimension of the decision variable. The second argument specifies the domain. These domains give the differences between e.g. LP and MILP, as we can introduce integer variables here. "
   ]
  },
  {
   "cell_type": "code",
   "execution_count": 42,
   "metadata": {},
   "outputs": [],
   "source": [
    "model.f = Var(model.J, domain=NonNegativeReals)\n",
    "model.b = Var(model.K, domain=NonNegativeReals)"
   ]
  },
  {
   "cell_type": "markdown",
   "metadata": {},
   "source": [
    "We wish to determine the objective function now. A python function is used to create the vector addition over all decision variables. He we add the coefficients. Following we need to declare the expression as objective function to the model. For that, we use the rule argument which intakes a function and we work with the default sense which is a minimisation problem. For maximisation problems, either `sense=maximize` or the coefficients of the objective functions can be adjusted. The name `OBJ` can be almost any name.  "
   ]
  },
  {
   "cell_type": "code",
   "execution_count": 43,
   "metadata": {},
   "outputs": [],
   "source": [
    "def obj_expression(model):\n",
    "    return (summation(model.c, model.f) - summation(model.p,model.b))\n",
    "\n",
    "model.OBJ = Objective(rule=obj_expression)"
   ]
  },
  {
   "cell_type": "markdown",
   "metadata": {},
   "source": [
    "We now wish to constrain the problem in a similar way as down with the objective function. In order to allow multiple constraints we parameterize the function with *i*, which states that we need a constraint for each value of *i* in *m*. we declare this as a constraint by using the Pyomo `Constraint` function. The model says that we can have more than one constraint of the same form and we have created the set `model.I` over which the constraints are indexed. The second argument gives the rule for the constraint fucntion. "
   ]
  },
  {
   "cell_type": "code",
   "execution_count": 44,
   "metadata": {},
   "outputs": [],
   "source": [
    "def ax_constraint_rule(model, k):\n",
    "    # return the expression for the constraint for i\n",
    "    return sum(model.a[k,j] * model.f[j] for j in model.J) == model.b[k]\n",
    "\n",
    "model.AxbConstraint = Constraint(model.K, rule=ax_constraint_rule)"
   ]
  },
  {
   "cell_type": "code",
   "execution_count": null,
   "metadata": {},
   "outputs": [],
   "source": [
    "def Boundary_constraint(model,h):\n",
    "    return sum(model.bound[h,j]*model.f[j] for j in model.J) == model.input[h]\n",
    "model.BoundConstraint = Constraint(model.H, rule=Boundary_constraint)"
   ]
  },
  {
   "cell_type": "markdown",
   "metadata": {},
   "source": [
    "## Next step: data input\n",
    "\n",
    "We have now sucessfully build an abstract pyomo model. The next step is to input data to the model. "
   ]
  },
  {
   "cell_type": "code",
   "execution_count": null,
   "metadata": {},
   "outputs": [],
   "source": []
  }
 ],
 "metadata": {
  "kernelspec": {
   "display_name": "Python 3",
   "language": "python",
   "name": "python3"
  },
  "language_info": {
   "codemirror_mode": {
    "name": "ipython",
    "version": 3
   },
   "file_extension": ".py",
   "mimetype": "text/x-python",
   "name": "python",
   "nbconvert_exporter": "python",
   "pygments_lexer": "ipython3",
   "version": "3.6.7"
  }
 },
 "nbformat": 4,
 "nbformat_minor": 2
}
