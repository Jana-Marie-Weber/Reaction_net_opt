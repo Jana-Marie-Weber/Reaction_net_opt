{
 "cells": [
  {
   "cell_type": "markdown",
   "metadata": {},
   "source": [
    "# toyproblem no.3 --> Alternative optima! \n",
    "This poblem is used to see if chemical consitence was given in teh first problem. A real chemical network is used here. This was assembled manually.\n",
    "\n",
    "species=5\n",
    "reactions=6\n",
    "\n",
    "\n",
    "3. A-->2B\n",
    "4. 2B--> A\n",
    "5. A+C --> D\n",
    "6. D --> A+C\n",
    "7. D--> B+E\n",
    "8. B+E --> A+C\n",
    "\n",
    "[-1,1,-1,1,0,1]\n",
    "[2,-2,0,0,1,-1]\n",
    "[0,0,-1,1,0,1] \n",
    "[0,0,1,-1,-1,0]\n",
    "[0,0,0,0,1,-1]\n",
    "\n",
    "## Problem of finding alternative solutions\n",
    "If given: 100 mol A and 100 mol C. Assuming all reactions have the same cost and one can only sell B for 5£/mol and D for 10£/mol. \n",
    "Both reaction 1 (A --> 2B) and reaction 5 (A+C --> D) would be optimal solutions with the same objective value.<br>\n",
    "### How to implement the enumeration of all alternative optima? "
   ]
  },
  {
   "cell_type": "code",
   "execution_count": 44,
   "metadata": {},
   "outputs": [
    {
     "data": {
      "text/html": [
       "\n",
       "        <iframe\n",
       "            width=\"600\"\n",
       "            height=\"300\"\n",
       "            src=\"prob_02_28.png\"\n",
       "            frameborder=\"0\"\n",
       "            allowfullscreen\n",
       "        ></iframe>\n",
       "        "
      ],
      "text/plain": [
       "<IPython.lib.display.IFrame at 0x118246978>"
      ]
     },
     "execution_count": 44,
     "metadata": {},
     "output_type": "execute_result"
    }
   ],
   "source": [
    "import pulp \n",
    "from pulp import *\n",
    "import numpy as np\n",
    "import pandas as pd\n",
    "from IPython.display import IFrame\n",
    "import pickle\n",
    "import matplotlib.pyplot as plt\n",
    "IFrame(\"prob_02_28.png\", width=600, height=300)"
   ]
  },
  {
   "cell_type": "markdown",
   "metadata": {},
   "source": [
    "### Providing steady-state conditions\n",
    "Flux Balance Analysis was previously used in metabolic networks, where the assumption holds that incoming outgoing fluxes at each node cancel each other out, resulting in a steady-state assumption. For the reaction network we need to artifically create that steady-state assumption by considering the overall supply chain. Hence, we introduce a supply and a removal term to the formulation, leadimg to an overall system in steady-state.\n",
    "<br>Hence, we have: <br> \\begin{equation}A_1 \\cdot f_1 + A_2 \\cdot f_2 -A_3\\cdot f_3 =0 \\end{equation} <br> where $A_1$ is the supply matrix with pseudoreactions, $A_2$ is the stoichiometric matrix and $A_3$ is the removal matrix with pseudoreactions. $f_1$, $f_2$, and $f_3$ are the fluxes going through the sets of reactions in the respective system (supply, reaction, removal)."
   ]
  },
  {
   "cell_type": "code",
   "execution_count": 26,
   "metadata": {},
   "outputs": [
    {
     "name": "stdout",
     "output_type": "stream",
     "text": [
      "Supply matrix:\n",
      "   S_R_1  S_R_2\n",
      "A      1      0\n",
      "B      0      0\n",
      "C      0      1\n",
      "D      0      0\n",
      "E      0      0\n",
      "Stoichiometric matrix:\n",
      "   R_1  R_2  R_3  R_4  R_5  R_6\n",
      "A   -1    1   -1    1    0    1\n",
      "B    2   -2    0    0    1   -1\n",
      "C    0    0   -1    1    0    1\n",
      "D    0    0    1   -1   -1    0\n",
      "E    0    0    0    0    1   -1\n",
      "Removal matrix:\n",
      "   R_R_1  R_R_2  R_R_3  R_R_4  R_R_5\n",
      "A      1      0      0      0      0\n",
      "B      0      1      0      0      0\n",
      "C      0      0      1      0      0\n",
      "D      0      0      0      1      0\n",
      "E      0      0      0      0      1\n"
     ]
    }
   ],
   "source": [
    "master=2\n",
    "A1= np.array([[1,0],[0,0],[0,1],[0,0],[0,0]])\n",
    "if master==2:\n",
    "    print(\"Supply matrix:\")\n",
    "    print(pd.DataFrame(A1,\n",
    "                      index=[\"A\",\"B\",\"C\",'D',\"E\"],\n",
    "                      columns=[\"S_R_1\",\"S_R_2\"]))\n",
    "\n",
    "\n",
    "A2=np.array([[-1,1,-1,1,0,1],[2,-2,0,0,1,-1],[0,0,-1,1,0,1] ,[0,0,1,-1,-1,0],[0,0,0,0,1,-1]])\n",
    "if master==2:\n",
    "    print(\"Stoichiometric matrix:\")\n",
    "    print(pd.DataFrame(A2,\n",
    "                      index=[\"A\",\"B\",\"C\",'D',\"E\"],\n",
    "                      columns=[\"R_1\",\"R_2\",\"R_3\",\"R_4\",\"R_5\",\"R_6\"]))\n",
    "\n",
    "A3=np.array([[1,0,0,0,0],[0,1,0,0,0],[0,0,1,0,0],[0,0,0,1,0],[0,0,0,0,1]])\n",
    "if master==2:\n",
    "    print(\"Removal matrix:\")\n",
    "    print(pd.DataFrame(A3,\n",
    "                      index=[\"A\",\"B\",\"C\",'D',\"E\"],\n",
    "                      columns=[\"R_R_1\",\"R_R_2\",\"R_R_3\",\"R_R_4\",\"R_R_5\"]))"
   ]
  },
  {
   "cell_type": "markdown",
   "metadata": {},
   "source": [
    "We can reformulate the problem to: $A'\\cdot f' = b $ where:<br>\n",
    "\\begin{equation}A'=\\begin{bmatrix} A_1 A_2 \\end{bmatrix}, \\; f'=\\begin{bmatrix} f_1 \\\\ f_2\n",
    "\\end{bmatrix}, \\;\n",
    "b = A_3\\cdot f_3\n",
    "\\end{equation}"
   ]
  },
  {
   "cell_type": "markdown",
   "metadata": {},
   "source": [
    "## Optimisation problem \n",
    "The optimisation problem is a linear programming problem described by the degrees of freedom (DoF), the constraints, and the target function. The problem can be formulated as:<br>\n",
    "\\begin{equation}\n",
    "\\begin{aligned}\n",
    "& \\underset{f',b}{\\text{min}}\n",
    "& & \\phi_{price} \\\\\n",
    "& \\text{subject to}\n",
    "& & A'\\cdot f'=b, \\; f_{1,1} = 100, \\; f_{1,2}= 100 \n",
    "\\end{aligned}\n",
    "\\end{equation}<br>\n",
    "\n",
    "It makes sense to either constrain the supply to the network ($f_{1,1}$ and $f_{1,2}$) or to demand a specifiy output/removal as in ($b_{i}=x$). In this example we have constraint the supply. Hence, the question is: Given that supply of component A and B how can we maximise profit. \n",
    "\n",
    "\n",
    "### Target function \n",
    "We use a cost function, where each reaction flux is taxed by a specific price and a profit that you earn by selling end products.\n",
    "<br>\\begin{equation}\n",
    "\\begin{aligned}\n",
    "\\phi_{price}=C_r^T\\cdot f'- P_s^T \\cdot b\n",
    "\\end{aligned}\n",
    "\\end{equation}<br>\n",
    "where $\\phi_{price}$ is the target function, $C_r^T$ is the cost of each reaction flux, $P_s^T$ is the selling price for each end product, $f'$ is the vector of fluxes through thr reactions and $b$ are the resulting fluxes per species."
   ]
  },
  {
   "cell_type": "code",
   "execution_count": 43,
   "metadata": {},
   "outputs": [
    {
     "name": "stdout",
     "output_type": "stream",
     "text": [
      "Cost of reaction\n",
      "[0 0 1 1 1 1 1 1]\n",
      "Selling price\n",
      "[  0  -5   0 -10   0]\n",
      "total cost\n",
      "[  0   0   1   1   1   1   1   1   0  -5   0 -10   0]\n"
     ]
    }
   ],
   "source": [
    "Cr=np.array([0,0,1,1,1,1,1,1])\n",
    "Ps=np.array([0,-5,0,-10,0])\n",
    "Cost=np.concatenate((Cr,Ps))\n",
    "print(\"Cost of reaction\")\n",
    "print(Cr)\n",
    "print(\"Selling price\")\n",
    "print(Ps)\n",
    "print(\"total cost\")\n",
    "print(Cost)"
   ]
  },
  {
   "cell_type": "code",
   "execution_count": 40,
   "metadata": {},
   "outputs": [
    {
     "name": "stdout",
     "output_type": "stream",
     "text": [
      "['f1_1', 'f1_2', 'f2_1', 'f2_2', 'f2_3', 'f2_4', 'f2_5', 'f2_6', 'b_1', 'b_2', 'b_3', 'b_4', 'b_5']\n",
      "[[ 1  0 -1  1 -1  1  0  1 -1  0  0  0  0]\n",
      " [ 0  0  2 -2  0  0  1 -1  0 -1  0  0  0]\n",
      " [ 0  1  0  0 -1  1  0  1  0  0 -1  0  0]\n",
      " [ 0  0  0  0  1 -1 -1  0  0  0  0 -1  0]\n",
      " [ 0  0  0  0  0  0  1 -1  0  0  0  0 -1]]\n",
      "{'f1_1': 0, 'f1_2': 0, 'f2_1': 1, 'f2_2': 1, 'f2_3': 1, 'f2_4': 1, 'f2_5': 1, 'f2_6': 1, 'b_1': 0, 'b_2': -5, 'b_3': 0, 'b_4': -10, 'b_5': 0}\n"
     ]
    },
    {
     "data": {
      "text/plain": [
       "FBA_toy:\n",
       "MINIMIZE\n",
       "-5*Flux_b_2 + -10*Flux_b_4 + 1*Flux_f2_1 + 1*Flux_f2_2 + 1*Flux_f2_3 + 1*Flux_f2_4 + 1*Flux_f2_5 + 1*Flux_f2_6 + 0\n",
       "SUBJECT TO\n",
       "_C1: - Flux_b_1 + Flux_f1_1 - Flux_f2_1 + Flux_f2_2 - Flux_f2_3 + Flux_f2_4\n",
       " + Flux_f2_6 = 0\n",
       "\n",
       "_C2: - Flux_b_2 + 2 Flux_f2_1 - 2 Flux_f2_2 + Flux_f2_5 - Flux_f2_6 = 0\n",
       "\n",
       "_C3: - Flux_b_3 + Flux_f1_2 - Flux_f2_3 + Flux_f2_4 + Flux_f2_6 = 0\n",
       "\n",
       "_C4: - Flux_b_4 + Flux_f2_3 - Flux_f2_4 - Flux_f2_5 = 0\n",
       "\n",
       "_C5: - Flux_b_5 + Flux_f2_5 - Flux_f2_6 = 0\n",
       "\n",
       "_C6: Flux_f1_1 = 100\n",
       "\n",
       "_C7: Flux_f1_2 = 100\n",
       "\n",
       "VARIABLES\n",
       "Flux_b_1 Continuous\n",
       "Flux_b_2 Continuous\n",
       "Flux_b_3 Continuous\n",
       "Flux_b_4 Continuous\n",
       "Flux_b_5 Continuous\n",
       "Flux_f1_1 Continuous\n",
       "Flux_f1_2 Continuous\n",
       "Flux_f2_1 Continuous\n",
       "Flux_f2_2 Continuous\n",
       "Flux_f2_3 Continuous\n",
       "Flux_f2_4 Continuous\n",
       "Flux_f2_5 Continuous\n",
       "Flux_f2_6 Continuous"
      ]
     },
     "execution_count": 40,
     "metadata": {},
     "output_type": "execute_result"
    }
   ],
   "source": [
    "A=np.concatenate((A1,A2,(-A3)),axis=1)\n",
    "A_additional_constraints=np.array([[1,0,0,0,0,0,0,0,0,0,0,0,0],[0,1,0,0,0,0,0,0,0,0,0,0,0]])\n",
    "\n",
    "f1=[]\n",
    "for k in range(1,3):\n",
    "    f1.append(\"f1_{0}\".format(k))\n",
    "f2=[]\n",
    "for k in range(1,7):\n",
    "    f2.append(\"f2_{0}\".format(k))\n",
    "b=[]\n",
    "for k in range(1,6):\n",
    "    b.append(\"b_{0}\".format(k))\n",
    "f_names=f1+f2+b\n",
    "print(f_names)\n",
    "print(A)\n",
    "\n",
    "\n",
    "cost={}\n",
    "ob=Cost\n",
    "for i in range(0,len(ob)):\n",
    "    cost[f_names[i]]=ob[i]\n",
    "    \n",
    "print(cost)\n",
    "\n",
    "C1={}\n",
    "C2={}\n",
    "C3={}\n",
    "C4={}\n",
    "C5={}\n",
    "C6={}\n",
    "\n",
    "matrix_constraints=[C1,C2,C3,C4,C5]\n",
    "for i in range(0,len(ob)):\n",
    "    C1[f_names[i]]=A[0][i]\n",
    "    C2[f_names[i]]=A[1][i]\n",
    "    C3[f_names[i]]=A[2][i]\n",
    "    C4[f_names[i]]=A[3][i]\n",
    "    C5[f_names[i]]=A[4][i]\n",
    "\n",
    "\n",
    "C6={}\n",
    "C7={}\n",
    "\n",
    "additional_constraints=[C6,C7]\n",
    "for i in range(0,len(ob)):\n",
    "    C6[f_names[i]]=A_additional_constraints[0][i]\n",
    "    C7[f_names[i]]=A_additional_constraints[1][i]\n",
    "\n",
    "    \n",
    "\n",
    "\n",
    "\n",
    "prob=LpProblem(\"FBA_toy\",LpMinimize)\n",
    "\n",
    "\n",
    "flux_vars = LpVariable.dicts(\"Flux\",f_names,0)\n",
    "\n",
    "prob += lpSum([cost[i]*flux_vars[i] for i in f_names])\n",
    "\n",
    "for n in matrix_constraints:\n",
    "    prob += lpSum([n[i] * flux_vars[i] for i in f_names]) == 0\n",
    "for n in additional_constraints:\n",
    "    prob += lpSum([n[i] * flux_vars[i] for i in f_names]) == 100\n",
    "\n",
    "prob"
   ]
  },
  {
   "cell_type": "code",
   "execution_count": 41,
   "metadata": {},
   "outputs": [
    {
     "data": {
      "text/plain": [
       "'Optimal'"
      ]
     },
     "execution_count": 41,
     "metadata": {},
     "output_type": "execute_result"
    }
   ],
   "source": [
    "status=prob.solve()\n",
    "LpStatus[status]"
   ]
  },
  {
   "cell_type": "code",
   "execution_count": 42,
   "metadata": {},
   "outputs": [
    {
     "name": "stdout",
     "output_type": "stream",
     "text": [
      "-900.0\n",
      "{Flux_f1_1: 100.0, Flux_f1_2: 100.0, Flux_f2_1: 100.0, Flux_f2_2: 0.0, Flux_f2_3: -0.0, Flux_f2_4: 0.0, Flux_f2_5: 0.0, Flux_f2_6: 0.0, Flux_b_1: 0.0, Flux_b_2: 200.0, Flux_b_3: 100.0, Flux_b_4: 0.0, Flux_b_5: 0.0}\n"
     ]
    },
    {
     "data": {
      "image/png": "[encoded data removed]",
      "text/plain": [
       "<Figure size 432x288 with 1 Axes>"
      ]
     },
     "metadata": {},
     "output_type": "display_data"
    }
   ],
   "source": [
    "print(value(prob.objective))\n",
    "results_dic_1={}\n",
    "for i in f_names:\n",
    "    results_dic_1[flux_vars[i]]=value(flux_vars[i])\n",
    "print(results_dic_1)\n",
    "plt.clf()\n",
    "barlist=plt.bar(range(len(results_dic_1)), list(results_dic_1.values()), align='center')\n",
    "plt.xticks(range(len(results_dic_1)), list(results_dic_1.keys()),rotation='vertical')\n",
    "plt.xlabel(\"Reactions\",fontsize=22)\n",
    "plt.ylabel(\"mol\",fontsize=22)\n",
    "barlist[0].set_color('g')\n",
    "barlist[1].set_color('g')\n",
    "barlist[8].set_color('y')\n",
    "barlist[9].set_color('y')\n",
    "barlist[10].set_color('y')\n",
    "barlist[11].set_color('y')\n",
    "barlist[12].set_color('y')\n",
    "\n",
    "\n",
    "plt.savefig(\"toyproblem_problem1.pdf\", bbox_inches = 'tight')\n",
    "plt.show()"
   ]
  },
  {
   "cell_type": "code",
   "execution_count": null,
   "metadata": {},
   "outputs": [],
   "source": []
  },
  {
   "cell_type": "code",
   "execution_count": null,
   "metadata": {},
   "outputs": [],
   "source": []
  }
 ],
 "metadata": {
  "kernelspec": {
   "display_name": "Python 3",
   "language": "python",
   "name": "python3"
  },
  "language_info": {
   "codemirror_mode": {
    "name": "ipython",
    "version": 3
   },
   "file_extension": ".py",
   "mimetype": "text/x-python",
   "name": "python",
   "nbconvert_exporter": "python",
   "pygments_lexer": "ipython3",
   "version": "3.6.8"
  }
 },
 "nbformat": 4,
 "nbformat_minor": 2
}
