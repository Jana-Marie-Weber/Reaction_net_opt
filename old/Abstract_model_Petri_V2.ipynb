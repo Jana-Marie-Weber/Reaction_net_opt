{
 "cells": [
  {
   "cell_type": "code",
   "execution_count": 2,
   "metadata": {},
   "outputs": [],
   "source": [
    "from pyomo.environ import *\n",
    "model = AbstractModel()"
   ]
  },
  {
   "cell_type": "code",
   "execution_count": 3,
   "metadata": {},
   "outputs": [],
   "source": [
    "model.places = Param(within=NonNegativeIntegers)\n",
    "model.transitions = Param(within=NonNegativeIntegers)"
   ]
  },
  {
   "cell_type": "code",
   "execution_count": 4,
   "metadata": {},
   "outputs": [],
   "source": [
    "model.P = RangeSet(1, model.places)\n",
    "model.T = RangeSet(1, model.transitions)"
   ]
  },
  {
   "cell_type": "code",
   "execution_count": 5,
   "metadata": {},
   "outputs": [],
   "source": [
    "model.c = Param(model.P)\n",
    "model.s = Param(model.T)\n",
    "model.b = Param(model.T)\n",
    "model.d = Param(model.P,model.T)\n",
    "model.a = Param(model.P)"
   ]
  },
  {
   "cell_type": "code",
   "execution_count": 6,
   "metadata": {},
   "outputs": [],
   "source": [
    "model.m1 = Var(model.P, domain=NonNegativeReals)\n",
    "model.m2 = Var(model.P, domain=NonNegativeReals)\n",
    "model.m3 = Var(model.P, domain=NonNegativeReals)\n",
    "\n",
    "model.q1 = Var(model.T, domain=NonNegativeReals)\n",
    "model.q2 = Var(model.T, domain=NonNegativeReals)\n",
    "\n",
    "model.y1 = Var(model.T, domain=Binary)\n",
    "model.y2 = Var(model.T, domain=Binary)"
   ]
  },
  {
   "cell_type": "code",
   "execution_count": 7,
   "metadata": {},
   "outputs": [],
   "source": [
    "def obj_expression(model):\n",
    "    return (summation(model.c, model.m3)+ summation(model.s,(model.q1+model.q2)) + summation(model.b, (model.y1+model.y2)))\n",
    "model.OBJ = Objective(rule=obj_expression)"
   ]
  },
  {
   "cell_type": "code",
   "execution_count": 8,
   "metadata": {},
   "outputs": [],
   "source": [
    "def bi_constraint_rule(model,t):\n",
    "    return sum(model.y1[t])<=1 and sum(model.y2[t])<=1\n",
    "model.binaryConstraint = Constraint(model.T, rule=bi_constraint_rule)"
   ]
  },
  {
   "cell_type": "code",
   "execution_count": 9,
   "metadata": {},
   "outputs": [],
   "source": [
    "def sy_constraint_rule(model,t):\n",
    "    return sum(model.y1[t]) <= sum(model.y2[t])\n",
    "model.symmeryConstraint = Constraint(model.T, rule=sy_constraint_rule)"
   ]
  },
  {
   "cell_type": "code",
   "execution_count": 10,
   "metadata": {},
   "outputs": [],
   "source": [
    "def bM_constraint_rule(model):\n",
    "    return 0 <= sum(model.q1[t] for t in model.T) <= sum(500*model.y1[t] for t in model.T) and 0 <= sum(model.q2[t] for t in model.T) <= sum(500*model.y2[t] for t in model.T)\n",
    "model.bMConstraint = Constraint(rule=bM_constraint_rule)"
   ]
  },
  {
   "cell_type": "code",
   "execution_count": 11,
   "metadata": {},
   "outputs": [],
   "source": [
    "def bo_constraint_rule(model,p):\n",
    "    return model.m1[p] == model.a[p]\n",
    "model.boundConstraint = Constraint(model.P, rule=bo_constraint_rule)"
   ]
  },
  {
   "cell_type": "code",
   "execution_count": 12,
   "metadata": {},
   "outputs": [],
   "source": [
    "def ma_constraint_rule(model,t):\n",
    "    return (model.m2[p] for p in model.P)  == (model.m1[p]+sum(model.d[p,t]*model.q1[t] for p in model.P) for p in model.P) and (model.m3[p] for p in model.P)  == (model.m2[p]+sum(model.d[p,t]*model.q2[t] for p in model.P) for p in model.P)\n",
    "model.markingConstraint = Constraint(model.T, rule=ma_constraint_rule)"
   ]
  },
  {
   "cell_type": "code",
   "execution_count": null,
   "metadata": {},
   "outputs": [],
   "source": []
  }
 ],
 "metadata": {
  "kernelspec": {
   "display_name": "Python 3",
   "language": "python",
   "name": "python3"
  },
  "language_info": {
   "codemirror_mode": {
    "name": "ipython",
    "version": 3
   },
   "file_extension": ".py",
   "mimetype": "text/x-python",
   "name": "python",
   "nbconvert_exporter": "python",
   "pygments_lexer": "ipython3",
   "version": "3.6.7"
  }
 },
 "nbformat": 4,
 "nbformat_minor": 2
}
