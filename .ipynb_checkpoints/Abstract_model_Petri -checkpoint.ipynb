{
 "cells": [
  {
   "cell_type": "code",
   "execution_count": 2,
   "metadata": {},
   "outputs": [],
   "source": [
    "from pyomo.environ import *\n",
    "model = AbstractModel()"
   ]
  },
  {
   "cell_type": "code",
   "execution_count": 3,
   "metadata": {},
   "outputs": [],
   "source": [
    "model.places = Param(within=NonNegativeIntegers)\n",
    "model.states = Param(within=NonNegativeIntegers)\n",
    "model.transitions = Param(within=NonNegativeIntegers)"
   ]
  },
  {
   "cell_type": "code",
   "execution_count": 4,
   "metadata": {},
   "outputs": [],
   "source": [
    "model.P = RangeSet(1, model.places)\n",
    "model.K = RangeSet(1, model.states)\n",
    "model.T = RangeSet(1, model.transitions)"
   ]
  },
  {
   "cell_type": "code",
   "execution_count": 5,
   "metadata": {},
   "outputs": [],
   "source": [
    "model.c = Param(model.P, model.K)\n",
    "model.s = Param(model.T, model.K)\n",
    "model.b = Param(model.T, model.K)\n",
    "model.d = Param(model.P, model.T)\n",
    "model.a = Param(model.P, model.K)\n",
    "model.bound = Param(model.P, model.K)"
   ]
  },
  {
   "cell_type": "code",
   "execution_count": 6,
   "metadata": {},
   "outputs": [],
   "source": [
    "model.m = Var(model.P,model.K, domain=NonNegativeReals)\n",
    "model.q = Var(model.T,model.K, domain=NonNegativeReals)\n",
    "model.y = Var(model.T,model.K, domain=Binary)"
   ]
  },
  {
   "cell_type": "code",
   "execution_count": 7,
   "metadata": {},
   "outputs": [],
   "source": [
    "def obj_expression(model):\n",
    "    return (summation(model.c, model.m)+ summation(model.s,model.q) + summation(model.b, model.y))\n",
    "model.OBJ = Objective(rule=obj_expression)"
   ]
  },
  {
   "cell_type": "code",
   "execution_count": 8,
   "metadata": {},
   "outputs": [],
   "source": [
    "def bi_constraint_rule(model,t):\n",
    "    return sum(model.y[t,k] for k in (model.K-1)) <=1\n",
    "model.binaryConstraint = Constraint(model.T, rule=bi_constraint_rule)"
   ]
  },
  {
   "cell_type": "code",
   "execution_count": 9,
   "metadata": {},
   "outputs": [],
   "source": [
    "def sy_constraint_rule(model,t):\n",
    "    return sum(model.y[t,k] for k in (model.K-2)) <= sum(model.y[t,k+1] for k in (model.K-2))\n",
    "model.symmeryConstraint = Constraint(model.T, rule=sy_constraint_rule)"
   ]
  },
  {
   "cell_type": "code",
   "execution_count": 10,
   "metadata": {},
   "outputs": [],
   "source": [
    "def bM_constraint_rule(model):\n",
    "    return 0 <= sum(model.q[t,k] for k in (model.K-1) for t in model.T) <= sum(500*model.y[t,k] for k in (model.K-1) for t in model.T)\n",
    "model.bMConstraint = Constraint(rule=bM_constraint_rule)"
   ]
  },
  {
   "cell_type": "code",
   "execution_count": 11,
   "metadata": {},
   "outputs": [],
   "source": [
    "def bo_constraint_rule(model,p,k):\n",
    "    return model.m[p,k]*model.bound[p,k] == model.a[p,k]\n",
    "model.boundConstraint = Constraint(model.P,model.K, rule=bo_constraint_rule)"
   ]
  },
  {
   "cell_type": "code",
   "execution_count": 12,
   "metadata": {},
   "outputs": [],
   "source": [
    "def ma_constraint_rule(model):\n",
    "    return (model.m[p,k+1] for k in model.K for p in model.P)  == (model.m[p,k]+sum(model.d[p,t]*model.q[t,k] for p in model.P for k in model.K) for p in model.P for k in model.K)\n",
    "model.markingConstraint = Constraint(rule=ma_constraint_rule)"
   ]
  },
  {
   "cell_type": "code",
   "execution_count": null,
   "metadata": {},
   "outputs": [],
   "source": []
  }
 ],
 "metadata": {
  "kernelspec": {
   "display_name": "Python 3",
   "language": "python",
   "name": "python3"
  },
  "language_info": {
   "codemirror_mode": {
    "name": "ipython",
    "version": 3
   },
   "file_extension": ".py",
   "mimetype": "text/x-python",
   "name": "python",
   "nbconvert_exporter": "python",
   "pygments_lexer": "ipython3",
   "version": "3.6.7"
  }
 },
 "nbformat": 4,
 "nbformat_minor": 2
}
